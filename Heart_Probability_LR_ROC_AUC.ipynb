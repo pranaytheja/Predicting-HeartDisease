{
 "cells": [
  {
   "cell_type": "markdown",
   "metadata": {},
   "source": [
    "# Random Forest"
   ]
  },
  {
   "cell_type": "code",
   "execution_count": 43,
   "metadata": {},
   "outputs": [],
   "source": [
    "from sklearn.ensemble import RandomForestClassifier\n",
    "\n",
    "# You can adjust parameters:\n",
    "my_RandomForest = RandomForestClassifier(n_estimators = 19, bootstrap = True, random_state=2)\n",
    "\n",
    "# for training:  my_RandomForest.fit \n",
    "# for testing/prediction:  my_RandomForest.predict"
   ]
  },
  {
   "cell_type": "markdown",
   "metadata": {},
   "source": [
    "# Model Evaluation and Visualization \n"
   ]
  },
  {
   "cell_type": "markdown",
   "metadata": {},
   "source": [
    "###    More on LOGISTIC REGRESSION:\n",
    "#### Importing the sklearn class (machine learning algorithm) that you would like to use for modeling:"
   ]
  },
  {
   "cell_type": "code",
   "execution_count": 44,
   "metadata": {},
   "outputs": [],
   "source": [
    "# Importing libraries and packages:\n",
    "\n",
    "from sklearn.linear_model import LogisticRegression\n",
    "from sklearn.cluster import KMeans\n",
    "from sklearn.model_selection import train_test_split\n",
    "from sklearn.metrics import accuracy_score\n",
    "from sklearn.model_selection import cross_val_score\n",
    "from sklearn import metrics\n",
    "import matplotlib.pyplot as plt\n",
    "import numpy as np\n",
    "import pandas as pd"
   ]
  },
  {
   "cell_type": "markdown",
   "metadata": {},
   "source": [
    "#### Set up the Feature Matrix and Label Vector:"
   ]
  },
  {
   "cell_type": "code",
   "execution_count": 45,
   "metadata": {},
   "outputs": [
    {
     "data": {
      "text/html": [
       "<div>\n",
       "<style scoped>\n",
       "    .dataframe tbody tr th:only-of-type {\n",
       "        vertical-align: middle;\n",
       "    }\n",
       "\n",
       "    .dataframe tbody tr th {\n",
       "        vertical-align: top;\n",
       "    }\n",
       "\n",
       "    .dataframe thead th {\n",
       "        text-align: right;\n",
       "    }\n",
       "</style>\n",
       "<table border=\"1\" class=\"dataframe\">\n",
       "  <thead>\n",
       "    <tr style=\"text-align: right;\">\n",
       "      <th></th>\n",
       "      <th>Age</th>\n",
       "      <th>RestBP</th>\n",
       "      <th>Chol</th>\n",
       "      <th>RestECG</th>\n",
       "      <th>MaxHR</th>\n",
       "      <th>Oldpeak</th>\n",
       "      <th>AHD</th>\n",
       "    </tr>\n",
       "  </thead>\n",
       "  <tbody>\n",
       "    <tr>\n",
       "      <th>0</th>\n",
       "      <td>63</td>\n",
       "      <td>145</td>\n",
       "      <td>233</td>\n",
       "      <td>2</td>\n",
       "      <td>150</td>\n",
       "      <td>2.3</td>\n",
       "      <td>No</td>\n",
       "    </tr>\n",
       "    <tr>\n",
       "      <th>1</th>\n",
       "      <td>67</td>\n",
       "      <td>160</td>\n",
       "      <td>286</td>\n",
       "      <td>2</td>\n",
       "      <td>108</td>\n",
       "      <td>1.5</td>\n",
       "      <td>Yes</td>\n",
       "    </tr>\n",
       "    <tr>\n",
       "      <th>2</th>\n",
       "      <td>67</td>\n",
       "      <td>120</td>\n",
       "      <td>229</td>\n",
       "      <td>2</td>\n",
       "      <td>129</td>\n",
       "      <td>2.6</td>\n",
       "      <td>Yes</td>\n",
       "    </tr>\n",
       "    <tr>\n",
       "      <th>3</th>\n",
       "      <td>37</td>\n",
       "      <td>130</td>\n",
       "      <td>250</td>\n",
       "      <td>0</td>\n",
       "      <td>187</td>\n",
       "      <td>3.5</td>\n",
       "      <td>No</td>\n",
       "    </tr>\n",
       "    <tr>\n",
       "      <th>4</th>\n",
       "      <td>41</td>\n",
       "      <td>130</td>\n",
       "      <td>204</td>\n",
       "      <td>2</td>\n",
       "      <td>172</td>\n",
       "      <td>1.4</td>\n",
       "      <td>No</td>\n",
       "    </tr>\n",
       "  </tbody>\n",
       "</table>\n",
       "</div>"
      ],
      "text/plain": [
       "   Age  RestBP  Chol  RestECG  MaxHR  Oldpeak  AHD\n",
       "0   63     145   233        2    150      2.3   No\n",
       "1   67     160   286        2    108      1.5  Yes\n",
       "2   67     120   229        2    129      2.6  Yes\n",
       "3   37     130   250        0    187      3.5   No\n",
       "4   41     130   204        2    172      1.4   No"
      ]
     },
     "execution_count": 45,
     "metadata": {},
     "output_type": "execute_result"
    }
   ],
   "source": [
    "# reading a CSV file directly from Web (or local drive), and store it in a pandas DataFrame:\n",
    "# \"read_csv\" is a pandas function to read csv files from web or local drive:\n",
    "\n",
    "Heart_df = pd.read_csv('Heart_short.csv')\n",
    "#cancer_df = pd.read_csv('https://raw.githubusercontent.com/mpourhoma/CS4661/master/cancer.csv')\n",
    "\n",
    "# checking the dataset by printing every 10 lines:\n",
    "Heart_df.head()"
   ]
  },
  {
   "cell_type": "code",
   "execution_count": 46,
   "metadata": {},
   "outputs": [
    {
     "name": "stdout",
     "output_type": "stream",
     "text": [
      "   Age  RestBP  Chol  RestECG  MaxHR  Oldpeak\n",
      "0   63     145   233        2    150      2.3\n",
      "1   67     160   286        2    108      1.5\n",
      "2   67     120   229        2    129      2.6\n",
      "3   37     130   250        0    187      3.5\n",
      "4   41     130   204        2    172      1.4\n",
      "0     No\n",
      "1    Yes\n",
      "2    Yes\n",
      "3     No\n",
      "4     No\n",
      "Name: AHD, dtype: object\n"
     ]
    }
   ],
   "source": [
    "# create a python list of feature names that would like to pick from the dataset:\n",
    "feature_cols = ['Age','RestBP',\n",
    "                'Chol','RestECG','MaxHR',\n",
    "                'Oldpeak']\n",
    "\n",
    "# use the above list to select the features from the original DataFrame\n",
    "X = Heart_df[feature_cols] \n",
    "\n",
    "# select a Series of labels (the last column) from the DataFrame\n",
    "y = Heart_df['AHD']\n",
    "\n",
    "# print the first 5 rows\n",
    "print(X.head())\n",
    "print(y.head())"
   ]
  },
  {
   "cell_type": "markdown",
   "metadata": {},
   "source": [
    "#### Splitting the Dataset:"
   ]
  },
  {
   "cell_type": "code",
   "execution_count": 47,
   "metadata": {},
   "outputs": [
    {
     "name": "stdout",
     "output_type": "stream",
     "text": [
      "(224, 6)\n",
      "(224,)\n",
      "(57, 6)\n",
      "(57,)\n"
     ]
    }
   ],
   "source": [
    "# Randomly splitting the original dataset into training set and testing set:\n",
    "X_train, X_test, y_train, y_test = train_test_split(X, y, test_size=0.2, random_state=2)\n",
    "\n",
    "# print the size of the traning set:\n",
    "print(X_train.shape)\n",
    "print(y_train.shape)\n",
    "\n",
    "# print the size of the testing set:\n",
    "print(X_test.shape)\n",
    "print(y_test.shape)"
   ]
  },
  {
   "cell_type": "markdown",
   "metadata": {},
   "source": [
    "#### Defining (instantiating) an \"object\" from the sklearn class:"
   ]
  },
  {
   "cell_type": "code",
   "execution_count": 48,
   "metadata": {},
   "outputs": [],
   "source": [
    "# \"my_logreg\" is instantiated as an \"object\" of LogisticRegression \"class\". \n",
    "my_logreg = LogisticRegression()\n"
   ]
  },
  {
   "cell_type": "markdown",
   "metadata": {},
   "source": [
    "#### Training Stage: Training a predictive model using the training dataset:\n"
   ]
  },
  {
   "cell_type": "code",
   "execution_count": 49,
   "metadata": {},
   "outputs": [
    {
     "data": {
      "text/plain": [
       "LogisticRegression(C=1.0, class_weight=None, dual=False, fit_intercept=True,\n",
       "          intercept_scaling=1, max_iter=100, multi_class='ovr', n_jobs=1,\n",
       "          penalty='l2', random_state=None, solver='liblinear', tol=0.0001,\n",
       "          verbose=0, warm_start=False)"
      ]
     },
     "execution_count": 49,
     "metadata": {},
     "output_type": "execute_result"
    }
   ],
   "source": [
    "# Training ONLY on the training set:\n",
    "my_logreg.fit(X_train, y_train)\n"
   ]
  },
  {
   "cell_type": "markdown",
   "metadata": {},
   "source": [
    "#### Testing (Prediction) Stage: Making prediction on new observations (Testing Data) using the trained model:\n"
   ]
  },
  {
   "cell_type": "code",
   "execution_count": 50,
   "metadata": {
    "scrolled": true
   },
   "outputs": [
    {
     "name": "stdout",
     "output_type": "stream",
     "text": [
      "['No' 'No' 'Yes' 'No' 'No' 'No' 'No' 'No' 'No' 'No' 'Yes' 'No' 'Yes' 'No'\n",
      " 'No' 'No' 'Yes' 'No' 'No' 'No' 'Yes' 'Yes' 'Yes' 'Yes' 'No' 'Yes' 'No'\n",
      " 'Yes' 'No' 'Yes' 'Yes' 'Yes' 'No' 'No' 'Yes' 'No' 'No' 'No' 'No' 'No'\n",
      " 'No' 'No' 'No' 'Yes' 'No' 'Yes' 'No' 'No' 'No' 'No' 'Yes' 'Yes' 'No'\n",
      " 'Yes' 'Yes' 'No' 'No']\n"
     ]
    }
   ],
   "source": [
    "# Testing on the testing set:\n",
    "y_predict_lr = my_logreg.predict(X_test)\n",
    "print(y_predict_lr)"
   ]
  },
  {
   "cell_type": "markdown",
   "metadata": {},
   "source": [
    "### Accuracy Evaluation:\n"
   ]
  },
  {
   "cell_type": "code",
   "execution_count": 51,
   "metadata": {},
   "outputs": [
    {
     "name": "stdout",
     "output_type": "stream",
     "text": [
      "0.7719298245614035\n"
     ]
    }
   ],
   "source": [
    "# We can now compare the \"predicted labels\" for the Testing Set with its \"actual labels\" to evaluate the accuracy \n",
    "\n",
    "score_lr = accuracy_score(y_test, y_predict_lr)\n",
    "\n",
    "print(score_lr)\n"
   ]
  },
  {
   "cell_type": "markdown",
   "metadata": {},
   "source": [
    "## Estimating the Probability (likelihood) of happening an Event: \n",
    "##### As we mentioned before, Logistic Regression can also estimate the probability of happening the event (estimating the likelihood of each label) rather than just providing a binary prediction (see Logistic Regression lecture for more information).\n",
    "##### Thus, we can adjust the True Positive Rate (TPR = Sensitivity) and False Positive Rate (FPR = False Alarm Rate) by changing the decision Threshold (see Model Evaluation lecture for more information)."
   ]
  },
  {
   "cell_type": "code",
   "execution_count": 52,
   "metadata": {},
   "outputs": [],
   "source": [
    "# Predicting the Binary Label:\n",
    "y_predict_lr = my_logreg.predict(X_test)\n",
    "\n",
    "# Estimating the probability (likelihood) of Each Label: \n",
    "y_predict_prob_lr = my_logreg.predict_proba(X_test)\n"
   ]
  },
  {
   "cell_type": "code",
   "execution_count": 53,
   "metadata": {},
   "outputs": [
    {
     "name": "stdout",
     "output_type": "stream",
     "text": [
      "157     No\n",
      "7       No\n",
      "99     Yes\n",
      "13      No\n",
      "112     No\n",
      "89     Yes\n",
      "93      No\n",
      "66      No\n",
      "227     No\n",
      "176     No\n",
      "173    Yes\n",
      "252    Yes\n",
      "29     Yes\n",
      "77      No\n",
      "127     No\n",
      "3       No\n",
      "245    Yes\n",
      "35      No\n",
      "191    Yes\n",
      "142     No\n",
      "133    Yes\n",
      "141     No\n",
      "250    Yes\n",
      "101    Yes\n",
      "118     No\n",
      "11      No\n",
      "113     No\n",
      "152    Yes\n",
      "128     No\n",
      "155    Yes\n",
      "65      No\n",
      "30      No\n",
      "53      No\n",
      "217     No\n",
      "153    Yes\n",
      "231     No\n",
      "74     Yes\n",
      "84     Yes\n",
      "10      No\n",
      "266     No\n",
      "175     No\n",
      "181     No\n",
      "98     Yes\n",
      "131    Yes\n",
      "212     No\n",
      "23     Yes\n",
      "120     No\n",
      "251     No\n",
      "215    Yes\n",
      "85     Yes\n",
      "115    Yes\n",
      "270    Yes\n",
      "134    Yes\n",
      "243    Yes\n",
      "274    Yes\n",
      "54      No\n",
      "4       No\n",
      "Name: AHD, dtype: object\n",
      "['No' 'No' 'Yes' 'No' 'No' 'No' 'No' 'No' 'No' 'No' 'Yes' 'No' 'Yes' 'No'\n",
      " 'No' 'No' 'Yes' 'No' 'No' 'No' 'Yes' 'Yes' 'Yes' 'Yes' 'No' 'Yes' 'No'\n",
      " 'Yes' 'No' 'Yes' 'Yes' 'Yes' 'No' 'No' 'Yes' 'No' 'No' 'No' 'No' 'No'\n",
      " 'No' 'No' 'No' 'Yes' 'No' 'Yes' 'No' 'No' 'No' 'No' 'Yes' 'Yes' 'No'\n",
      " 'Yes' 'Yes' 'No' 'No']\n",
      "[[0.84064996 0.15935004]\n",
      " [0.72573548 0.27426452]\n",
      " [0.08304849 0.91695151]\n",
      " [0.88206798 0.11793202]\n",
      " [0.85599233 0.14400767]\n",
      " [0.51861816 0.48138184]\n",
      " [0.66521676 0.33478324]\n",
      " [0.76103391 0.23896609]\n",
      " [0.68788815 0.31211185]\n",
      " [0.73769941 0.26230059]\n",
      " [0.47907844 0.52092156]\n",
      " [0.75095345 0.24904655]\n",
      " [0.31460933 0.68539067]\n",
      " [0.90933327 0.09066673]\n",
      " [0.84575842 0.15424158]\n",
      " [0.53103711 0.46896289]\n",
      " [0.3632992  0.6367008 ]\n",
      " [0.87540303 0.12459697]\n",
      " [0.54793553 0.45206447]\n",
      " [0.88348015 0.11651985]\n",
      " [0.10444095 0.89555905]\n",
      " [0.4894647  0.5105353 ]\n",
      " [0.21283649 0.78716351]\n",
      " [0.02508279 0.97491721]\n",
      " [0.81796323 0.18203677]\n",
      " [0.46611645 0.53388355]\n",
      " [0.57437454 0.42562546]\n",
      " [0.26127348 0.73872652]\n",
      " [0.66926532 0.33073468]\n",
      " [0.16788957 0.83211043]\n",
      " [0.49893567 0.50106433]\n",
      " [0.47034233 0.52965767]\n",
      " [0.52464691 0.47535309]\n",
      " [0.8259057  0.1740943 ]\n",
      " [0.11641618 0.88358382]\n",
      " [0.68782035 0.31217965]\n",
      " [0.57674521 0.42325479]\n",
      " [0.83180588 0.16819412]\n",
      " [0.70237488 0.29762512]\n",
      " [0.80781836 0.19218164]\n",
      " [0.68750665 0.31249335]\n",
      " [0.5173731  0.4826269 ]\n",
      " [0.71447748 0.28552252]\n",
      " [0.39990783 0.60009217]\n",
      " [0.76789859 0.23210141]\n",
      " [0.42114136 0.57885864]\n",
      " [0.91751949 0.08248051]\n",
      " [0.50329425 0.49670575]\n",
      " [0.60629402 0.39370598]\n",
      " [0.68633467 0.31366533]\n",
      " [0.20297921 0.79702079]\n",
      " [0.42078661 0.57921339]\n",
      " [0.62428408 0.37571592]\n",
      " [0.25187744 0.74812256]\n",
      " [0.12786086 0.87213914]\n",
      " [0.51251727 0.48748273]\n",
      " [0.71512264 0.28487736]]\n",
      "[0.15935004 0.27426452 0.91695151 0.11793202 0.14400767 0.48138184\n",
      " 0.33478324 0.23896609 0.31211185 0.26230059 0.52092156 0.24904655\n",
      " 0.68539067 0.09066673 0.15424158 0.46896289 0.6367008  0.12459697\n",
      " 0.45206447 0.11651985 0.89555905 0.5105353  0.78716351 0.97491721\n",
      " 0.18203677 0.53388355 0.42562546 0.73872652 0.33073468 0.83211043\n",
      " 0.50106433 0.52965767 0.47535309 0.1740943  0.88358382 0.31217965\n",
      " 0.42325479 0.16819412 0.29762512 0.19218164 0.31249335 0.4826269\n",
      " 0.28552252 0.60009217 0.23210141 0.57885864 0.08248051 0.49670575\n",
      " 0.39370598 0.31366533 0.79702079 0.57921339 0.37571592 0.74812256\n",
      " 0.87213914 0.48748273 0.28487736]\n"
     ]
    }
   ],
   "source": [
    "# This line prints the \"actual label\" of the testing set:\n",
    "print(y_test)\n",
    "\n",
    "# This line prints the \"predicted label\" for the testing set:\n",
    "print(y_predict_lr)\n",
    "\n",
    "# This line prints the \"estimated likelihood of both label\" for the testing set:\n",
    "print(y_predict_prob_lr)\n",
    "\n",
    "# This line prints the \"estimated likelihood of label=1\" for the testing set:\n",
    "print(y_predict_prob_lr[:,1])"
   ]
  },
  {
   "cell_type": "markdown",
   "metadata": {},
   "source": [
    "# True Positive Rate (TPR) and False Positive Rate (FPR):"
   ]
  },
  {
   "cell_type": "code",
   "execution_count": 54,
   "metadata": {},
   "outputs": [
    {
     "name": "stdout",
     "output_type": "stream",
     "text": [
      "[0.         0.01754386 1.        ]\n",
      "[nan nan nan]\n"
     ]
    },
    {
     "name": "stderr",
     "output_type": "stream",
     "text": [
      "/anaconda3/lib/python3.6/site-packages/sklearn/metrics/ranking.py:571: UndefinedMetricWarning: No positive samples in y_true, true positive value should be meaningless\n",
      "  UndefinedMetricWarning)\n"
     ]
    }
   ],
   "source": [
    "from sklearn import metrics\n",
    "\n",
    "fpr, tpr, thresholds = metrics.roc_curve(y_test, y_predict_prob_lr[:,1], pos_label=1)\n",
    "\n",
    "print(fpr)\n",
    "print(tpr)"
   ]
  },
  {
   "cell_type": "markdown",
   "metadata": {},
   "source": [
    "# AUC:"
   ]
  },
  {
   "cell_type": "code",
   "execution_count": 55,
   "metadata": {},
   "outputs": [
    {
     "name": "stdout",
     "output_type": "stream",
     "text": [
      "nan\n"
     ]
    }
   ],
   "source": [
    "# AUC:\n",
    "AUC = metrics.auc(fpr, tpr)\n",
    "print(AUC)"
   ]
  },
  {
   "cell_type": "markdown",
   "metadata": {},
   "source": [
    "# ROC Curve:"
   ]
  },
  {
   "cell_type": "code",
   "execution_count": 56,
   "metadata": {},
   "outputs": [
    {
     "data": {
      "image/png": "[encoded data removed]",
      "text/plain": [
       "<matplotlib.figure.Figure at 0x11812b240>"
      ]
     },
     "metadata": {},
     "output_type": "display_data"
    }
   ],
   "source": [
    "# Importing the \"pyplot\" package of \"matplotlib\" library of python to generate \n",
    "# graphs and plot curves:\n",
    "import matplotlib.pyplot as plt\n",
    "\n",
    "# The following line will tell Jupyter Notebook to keep the figures inside the explorer page \n",
    "# rather than openng a new figure window:\n",
    "%matplotlib inline\n",
    "\n",
    "plt.figure()\n",
    "\n",
    "# Roc Curve:\n",
    "plt.plot(fpr, tpr, color='red', lw=2, \n",
    "         label='ROC Curve (area = %0.2f)' % AUC)\n",
    "\n",
    "# Random Guess line:\n",
    "plt.plot([0, 1], [0, 1], color='blue', lw=1, linestyle='--')\n",
    "\n",
    "# Defining The Range of X-Axis and Y-Axis:\n",
    "plt.xlim([-0.005, 1.005])\n",
    "plt.ylim([0.0, 1.01])\n",
    "\n",
    "# Labels, Title, Legend:\n",
    "plt.xlabel('False Positive Rate')\n",
    "plt.ylabel('True Positive Rate')\n",
    "plt.title('Receiver operating characteristic')\n",
    "plt.legend(loc=\"lower right\")\n",
    "\n",
    "plt.show()"
   ]
  },
  {
   "cell_type": "markdown",
   "metadata": {},
   "source": [
    "### Repeating the process with smaller number of features:"
   ]
  },
  {
   "cell_type": "code",
   "execution_count": 57,
   "metadata": {},
   "outputs": [
    {
     "name": "stdout",
     "output_type": "stream",
     "text": [
      "nan\n"
     ]
    },
    {
     "name": "stderr",
     "output_type": "stream",
     "text": [
      "/anaconda3/lib/python3.6/site-packages/sklearn/metrics/ranking.py:571: UndefinedMetricWarning: No positive samples in y_true, true positive value should be meaningless\n",
      "  UndefinedMetricWarning)\n"
     ]
    }
   ],
   "source": [
    "# create a python list of feature names that would like to pick from the dataset:\n",
    "feature_cols2 = ['RestBP','Chol']\n",
    "\n",
    "# use the above list to select the features from the original DataFrame\n",
    "X2 = Heart_df[feature_cols2] \n",
    "\n",
    "# select a Series of labels (the last column) from the DataFrame\n",
    "y2 = Heart_df['AHD']\n",
    "\n",
    "#Splitting the data\n",
    "X_train2, X_test2, y_train2, y_test2 = train_test_split(X2, y2, test_size=0.2, random_state=2)\n",
    "\n",
    "my_logreg2 = LogisticRegression()\n",
    "my_logreg2.fit(X_train2,y_train2)\n",
    "\n",
    "# Predicting the Binary Label:\n",
    "y_predict_lr2 = my_logreg2.predict(X_test2)\n",
    "\n",
    "# Estimating the probability (likelihood) of Each Label: \n",
    "y_predict_prob_lr2 = my_logreg2.predict_proba(X_test2)\n",
    "\n",
    "fpr2, tpr2, thresholds2 = metrics.roc_curve(y_test2, y_predict_prob_lr2[:,1], pos_label=1)\n",
    "AUC2 = metrics.auc(fpr2, tpr2)\n",
    "print(AUC2)"
   ]
  },
  {
   "cell_type": "markdown",
   "metadata": {},
   "source": [
    "### Comparing the ROC Curves:"
   ]
  },
  {
   "cell_type": "code",
   "execution_count": 58,
   "metadata": {},
   "outputs": [
    {
     "data": {
      "image/png": "[encoded data removed]",
      "text/plain": [
       "<matplotlib.figure.Figure at 0x117fed518>"
      ]
     },
     "metadata": {},
     "output_type": "display_data"
    }
   ],
   "source": [
    "# The following line will tell Jupyter Notebook to keep the figures inside the explorer page \n",
    "%matplotlib inline\n",
    "\n",
    "plt.figure()\n",
    "\n",
    "# Roc Curve1:\n",
    "plt.plot(fpr, tpr, color='red', lw=2, \n",
    "         label='ROC Curve (area = %0.2f)' % AUC)\n",
    "\n",
    "# Roc Curve2:\n",
    "plt.plot(fpr2, tpr2, color='green', lw=2, \n",
    "         label='ROC Curve (area = %0.2f)' % AUC2)\n",
    "\n",
    "# Random Guess line:\n",
    "plt.plot([0, 1], [0, 1], color='blue', lw=1, linestyle='--')\n",
    "\n",
    "# Defining The Range of X-Axis and Y-Axis:\n",
    "plt.xlim([-0.005, 1.005])\n",
    "plt.ylim([0.0, 1.01])\n",
    "\n",
    "# Labels, Title, Legend:\n",
    "plt.xlabel('False Positive Rate')\n",
    "plt.ylabel('True Positive Rate')\n",
    "plt.title('Receiver operating characteristic')\n",
    "plt.legend(loc=\"lower right\")\n",
    "\n",
    "plt.show()"
   ]
  },
  {
   "cell_type": "markdown",
   "metadata": {},
   "source": [
    "# More on Visualization: Plotting KMeans Clustering Results"
   ]
  },
  {
   "cell_type": "code",
   "execution_count": 59,
   "metadata": {},
   "outputs": [
    {
     "data": {
      "text/plain": [
       "<function matplotlib.pyplot.show>"
      ]
     },
     "execution_count": 59,
     "metadata": {},
     "output_type": "execute_result"
    },
    {
     "data": {
      "image/png": "[encoded data removed]",
      "text/plain": [
       "<matplotlib.figure.Figure at 0x1a1e949240>"
      ]
     },
     "metadata": {},
     "output_type": "display_data"
    }
   ],
   "source": [
    "# The following line will tell Jupyter Notebook to keep the figures inside the explorer page \n",
    "%matplotlib inline\n",
    "\n",
    "# KMeans Clustering for iris dataset:\n",
    "Heart_df = pd.read_csv('Heart_short.csv')\n",
    "\n",
    "#feature_cols = ['sepal_length','sepal_width','petal_length','petal_width']\n",
    "feature_cols = ['Age','RestBP']\n",
    "X = Heart_df[feature_cols]\n",
    "\n",
    "# Clustering:\n",
    "my_KMeans = KMeans(n_clusters=3)\n",
    "my_KMeans.fit(X)\n",
    "\n",
    "# Assigned Labels after clustering: \n",
    "labels = my_KMeans.labels_\n",
    "\n",
    "# Centers of the clusters:\n",
    "centers = my_KMeans.cluster_centers_\n",
    "\n",
    "# Plotting the results:\n",
    "plt.figure\n",
    "\n",
    "for l, c in zip([0,1,2], ['red', 'blue', 'green']):\n",
    "    \n",
    "    current_members = (labels == l)\n",
    "    current_center = centers[l]\n",
    "    \n",
    "    plt.scatter(X.iloc[current_members,0], X.iloc[current_members,1], color = c, marker='x')\n",
    "    \n",
    "    plt.plot(current_center[0], current_center[1], 'o', markerfacecolor = c,\n",
    "            markeredgecolor = 'k', markersize=7)\n",
    "\n",
    "# Defining The Range of X-Axis and Y-Axis:\n",
    "plt.xlim([2, 10])\n",
    "plt.ylim([-0.5, 3])\n",
    "\n",
    "# Labels, Title, Legend:\n",
    "plt.xlabel('Age')\n",
    "plt.ylabel('RestBP')\n",
    "plt.title('KMeans for Heart dataset')\n",
    "\n",
    "plt.show"
   ]
  },
  {
   "cell_type": "code",
   "execution_count": null,
   "metadata": {},
   "outputs": [],
   "source": []
  },
  {
   "cell_type": "code",
   "execution_count": null,
   "metadata": {},
   "outputs": [],
   "source": []
  }
 ],
 "metadata": {
  "anaconda-cloud": {},
  "kernelspec": {
   "display_name": "Python 3",
   "language": "python",
   "name": "python3"
  },
  "language_info": {
   "codemirror_mode": {
    "name": "ipython",
    "version": 3
   },
   "file_extension": ".py",
   "mimetype": "text/x-python",
   "name": "python",
   "nbconvert_exporter": "python",
   "pygments_lexer": "ipython3",
   "version": "3.6.4"
  }
 },
 "nbformat": 4,
 "nbformat_minor": 1
}
